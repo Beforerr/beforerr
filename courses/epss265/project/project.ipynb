{
 "cells": [
  {
   "cell_type": "markdown",
   "metadata": {},
   "source": [
    "### Objective\n",
    "\n",
    "If a thin Aluminum layer is deposited over a solid-state detector active area, the energy loss by the particle in that Al layer will not be recorded. The shorter the range of a particle the more the relative energy that will be missed. The range depends on mass near the last portion of the flight: heavier ions stop earlier. Two detectors, a bare one and one with an Al layer, measuring the same beam could give very different results for He+ or O+. \n",
    "\n",
    "Plot the energy recorded (past the Al) versus the incident energy, for beams of various energies, and for different thickness (10nm, 100nm, ...). Use H+, He+, O+. Demonstrate that with a sufficient number of detectors you could differentiate monoenergetic protons, He+ and O+. Use SPENVIS or GEANT-4 for your modeling.\n",
    "\n",
    " \n",
    "\n",
    "Bonus: simulate the number of detectors required to deconvolve the effects of a single, thermalized (not beam) distribution with dE/E~100%."
   ]
  },
  {
   "cell_type": "markdown",
   "metadata": {},
   "source": [
    "### Directions\n",
    "\n",
    "This will be done by creating a plot of energy deposited in Si as function of input energy. You will use freeware Geant-4 which simulates particle interaction with matter, through a portal: [SPENVIS](https://www.spenvis.oma.be). Various models exist there (very useful site!).\n",
    "\n",
    " First you have to register, then create a project, then input your model input and output parameters, then make a run and get results one-energy-at-a-time. Once you know how to do that, then you must create an array of inputs and outputs outside of SPENVIS in your favorite plotting package (e.g., excel, python or other). You will then record those results and plot them, one array for protons, another for He+ and another for O+. You can try other species as well, for example O2+ which may be present in the low altitude ionosphere. \n",
    " \n",
    "- Assume monoenergetic beams. The program allows you to use a simple ion spectrum. (For the bonus question you have to make a guess on the instrument response function, model it in a simple analytical form, then prove it can be done using Geant-4. You do not have to do the bonus.)\n",
    "\n",
    "For your outline, make sure you can obtain results, understand the problem enough to present the requested report structure, before actually doing the plots. Present a statement of task, the process and the expected results to be plotted. \n",
    "\n",
    "For your report, you should not repeat the steps I mention below, but just execute your outline above and go right to the findings, plots and discussion. In the discussion explain how you use the model to design a detector system (how many detectors, thicknesses, orientations etc) that does the job.\n",
    "\n",
    "\n",
    "1) On SPENVIS after registration, name your project and proceed to use Geant-4 \"MULASSIS\". You can save your run, and come back to it later.\n",
    "\n",
    "2) Your system will be a 3 layer system, where the first layer is air, the second Al of variable thickness and the third Silicon of a mm or two... enough to stop the highest energy of interest. You shoot some particles (10,000 is a good number), and record how much energy is deposited in Si. Excluding losses in the Si (phonons) the lost energy is mainly due to losses in the Aluminum. Pick the source parameters: How many/which ions, charge angle (-22 deg -> 22 deg).\n",
    "\n",
    "3) For Geometry you pick the layers above, and for Al choose 0, 1, 10 100 nm, one thickness at a time.\n",
    "\n",
    "4) Specify the input as monoenergetic beam.\n",
    "\n",
    "5) Specify analysis parameters as mean energy (the mean energy deposited based on the 10,000 particle run)\n",
    "\n",
    "6) Create a macro (a bunch of commands that tell Geant-4 what to do) and Run.\n",
    "\n",
    "7) See the plot\n",
    "\n",
    "8) Output results (2 numbers) into your program next to input energy to build the in/out energy curve.\n",
    "\n",
    "9) Repeat, one point at a time.\n",
    "\n",
    "10) Plot results for one species and then (in different color) for other species.\n",
    "\n",
    "11) Repeat for different Al thicknesses.\n",
    "\n",
    " "
   ]
  },
  {
   "cell_type": "markdown",
   "metadata": {},
   "source": [
    "- Geometry Definition\n",
    "    \n",
    "- Source particles\n",
    "    - He+\n",
    "        - Atomic number: 2\n",
    "        - Nucleon number: 4\n",
    "- Material Definition"
   ]
  },
  {
   "cell_type": "markdown",
   "metadata": {},
   "source": [
    "\n",
    "https://www.spenvis.oma.be/spenvis/htusers/b/beforerr/EPSS265/1699989981/spenvis_mlo.txt"
   ]
  },
  {
   "cell_type": "code",
   "execution_count": 40,
   "metadata": {},
   "outputs": [],
   "source": [
    "import yaml\n",
    "\n",
    "with open(\"config.yaml\", 'r') as stream:\n",
    "    config = yaml.safe_load(stream)"
   ]
  },
  {
   "cell_type": "code",
   "execution_count": 53,
   "metadata": {},
   "outputs": [
    {
     "name": "stdout",
     "output_type": "stream",
     "text": [
      "https://www.spenvis.oma.be/spenvis/htusers/b//beforerr/EPSS265/1699990533/spenvis_mlo.txt\n",
      "https://www.spenvis.oma.be/spenvis/htusers/b//beforerr/EPSS265/1699990533/spenvis_mul-rmt.txt\n"
     ]
    }
   ],
   "source": [
    "user = config[\"user\"]\n",
    "project = config[\"project\"]\n",
    "run = config[\"run\"]\n",
    "files = config[\"files\"]\n",
    "\n",
    "output = files[\"output\"]\n",
    "report = files[\"report\"]\n",
    "\n",
    "base_url = config[\"base_url\"]\n",
    "url_pattern = config[\"url_pattern\"]\n",
    "\n",
    "print(\n",
    "    url_pattern.format(\n",
    "        base_url=base_url,\n",
    "        user=user,\n",
    "        project=project,\n",
    "        run=run,\n",
    "        filename=output[\"filename\"],\n",
    "    )\n",
    ")\n",
    "\n",
    "print(\n",
    "    url_pattern.format(\n",
    "        base_url=base_url,\n",
    "        user=user,\n",
    "        project=project,\n",
    "        run=run,\n",
    "        filename=report[\"filename\"],\n",
    "    )\n",
    ")"
   ]
  },
  {
   "cell_type": "markdown",
   "metadata": {},
   "source": []
  }
 ],
 "metadata": {
  "kernelspec": {
   "display_name": "cool_planet",
   "language": "python",
   "name": "python3"
  },
  "language_info": {
   "codemirror_mode": {
    "name": "ipython",
    "version": 3
   },
   "file_extension": ".py",
   "mimetype": "text/x-python",
   "name": "python",
   "nbconvert_exporter": "python",
   "pygments_lexer": "ipython3",
   "version": "3.10.12"
  }
 },
 "nbformat": 4,
 "nbformat_minor": 2
}
