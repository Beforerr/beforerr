{
 "cells": [
  {
   "cell_type": "markdown",
   "metadata": {},
   "source": [
    "$$\n",
    "ν = n σ v \\ln{Λ}\n",
    "$$"
   ]
  },
  {
   "cell_type": "code",
   "execution_count": 36,
   "metadata": {},
   "outputs": [],
   "source": [
    "import plasmapy.formulary as plf\n",
    "import astropy.units as u\n",
    "\n",
    "n = 1e7 * u.m**-3\n",
    "T = 1e5 * u.K\n",
    "v_drift = 100 * u.km / u.s\n",
    "\n",
    "# assuming temperature is the same for both species\n",
    "n_ion = n_e = n\n",
    "T_ion = T_e = T\n",
    "\n",
    "Coulomb_log = plf.Coulomb_logarithm(T, n_e, (\"e-\", \"p+\")) * u.dimensionless_unscaled\n",
    "\n",
    "electron_ion_collisions = plf.MaxwellianCollisionFrequencies(\n",
    "    \"e-\",\n",
    "    \"p+\",\n",
    "    v_drift = v_drift,\n",
    "    n_a=n_e,\n",
    "    T_a=T_e,\n",
    "    n_b=n_ion,\n",
    "    T_b=T_ion,\n",
    "    Coulomb_log=Coulomb_log,\n",
    ")\n",
    "electron_ion_collisions.Maxwellian_avg_ei_collision_freq\n",
    "\n",
    "def τ(n, T, V):\n",
    "    n_ion = n_e = n\n",
    "    Coulomb_log = plf.Coulomb_logarithm(T, n_e, (\"e-\", \"p+\")) * u.dimensionless_unscaled\n",
    "    \n",
    "    electron_ion_collisions = plf.MaxwellianCollisionFrequencies(\n",
    "        \"e-\",\n",
    "        \"p+\",\n",
    "        v_drift = V,\n",
    "        n_a=n_e,\n",
    "        T_a=T_e,\n",
    "        n_b=n_ion,\n",
    "        T_b=T_ion,\n",
    "        Coulomb_log=Coulomb_log,\n",
    "    )\n",
    "    \n",
    "    return 1  / electron_ion_collisions.Maxwellian_avg_ei_collision_freq"
   ]
  },
  {
   "cell_type": "code",
   "execution_count": null,
   "metadata": {},
   "outputs": [],
   "source": []
  }
 ],
 "metadata": {
  "kernelspec": {
   "display_name": "cool_cool",
   "language": "python",
   "name": "python3"
  },
  "language_info": {
   "codemirror_mode": {
    "name": "ipython",
    "version": 3
   },
   "file_extension": ".py",
   "mimetype": "text/x-python",
   "name": "python",
   "nbconvert_exporter": "python",
   "pygments_lexer": "ipython3",
   "version": "3.10.11"
  }
 },
 "nbformat": 4,
 "nbformat_minor": 2
}
