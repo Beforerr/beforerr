{
 "cells": [
  {
   "cell_type": "markdown",
   "metadata": {},
   "source": [
    "# Transactions with currencies"
   ]
  },
  {
   "cell_type": "code",
   "execution_count": 57,
   "metadata": {},
   "outputs": [],
   "source": [
    "def convert_transactions_to_target_currency(transactions, exchange_rates, target_currency = 'CNY'):\n",
    "    \"\"\"\n",
    "    Converts a list of transactions in various currencies to a target currency based on provided exchange rates.\n",
    "\n",
    "    Parameters:\n",
    "    - transactions (list of tuples): A list where each tuple contains the amount and its currency as a string,\n",
    "      e.g., [(100, 'USD'), (-50, 'GBP')].\n",
    "    - exchange_rates (dict): A dictionary of exchange rates with currency pairs as keys and rates as values,\n",
    "      e.g., {('USD', 'CNY'): 9.14, ('GBP', 'CNY'): 7.23}.\n",
    "    - target_currency (str): The currency to which all amounts will be converted.\n",
    "\n",
    "    Returns:\n",
    "    - float: The total amount in the target currency after conversion.\n",
    "    \"\"\"\n",
    "    total_in_target_currency = 0.0\n",
    "    for amount, currency in transactions:\n",
    "        if currency == target_currency:\n",
    "            # If the transaction is already in the target currency, no conversion is needed.\n",
    "            converted_amount = amount\n",
    "        else:\n",
    "            # Convert the transaction to the target currency using the exchange rate.\n",
    "            key = (currency, target_currency)\n",
    "            if key in exchange_rates:\n",
    "                rate = exchange_rates[key]\n",
    "                converted_amount = amount * rate\n",
    "            else:\n",
    "                raise ValueError(f\"No exchange rate provided for {currency} to {target_currency}\")\n",
    "        total_in_target_currency += converted_amount\n",
    "    \n",
    "    print(total_in_target_currency, \"in\", target_currency)\n",
    "    \n",
    "    return total_in_target_currency\n",
    "\n",
    "def convert_transactions_to_target_currencies(transactions, exchange_rates, target_currencies = ['CNY', 'USD']):\n",
    "    \"\"\"Converts a list of transactions in various currencies to multiple target currencies based on provided exchange rates.\n",
    "    \"\"\" \n",
    "    return [convert_transactions_to_target_currency(transactions, exchange_rates, target_currency) for target_currency in target_currencies]"
   ]
  },
  {
   "cell_type": "code",
   "execution_count": 55,
   "metadata": {},
   "outputs": [],
   "source": [
    "exchange_rates_example = {\n",
    "    (\"GBP\", \"CNY\"): 9.14,\n",
    "    (\"USD\", \"CNY\"): 7.23,\n",
    "    (\"CNY\", \"CNY\"): 1,\n",
    "    (\"GBP\", \"USD\"): 1.26,\n",
    "    \n",
    "}\n",
    "target_currency_example = \"CNY\"\n",
    "target_currency_example = \"USD\""
   ]
  },
  {
   "cell_type": "markdown",
   "metadata": {},
   "source": [
    "## Zijin - Yezi"
   ]
  },
  {
   "cell_type": "code",
   "execution_count": 58,
   "metadata": {},
   "outputs": [
    {
     "name": "stdout",
     "output_type": "stream",
     "text": [
      "1282.9019999999998 in CNY\n",
      "176.02459999999996 in USD\n"
     ]
    }
   ],
   "source": [
    "transactions_example = [(339.21, 'GBP'), (-251.38, 'USD')]\n",
    "result_example = convert_transactions_to_target_currencies(transactions_example, exchange_rates_example)"
   ]
  },
  {
   "cell_type": "markdown",
   "metadata": {},
   "source": [
    "## Zijin - Hanlin"
   ]
  },
  {
   "cell_type": "code",
   "execution_count": 60,
   "metadata": {},
   "outputs": [
    {
     "name": "stdout",
     "output_type": "stream",
     "text": [
      "-1156.5258 in CNY\n",
      "-160.26420000000002 in USD\n"
     ]
    }
   ],
   "source": [
    "transactions_example = [(72.33, 'GBP'), (-251.40, 'USD')]\n",
    "result_example = convert_transactions_to_target_currencies(transactions_example, exchange_rates_example)"
   ]
  },
  {
   "cell_type": "markdown",
   "metadata": {},
   "source": [
    "## Zijin - Hanzhang"
   ]
  },
  {
   "cell_type": "code",
   "execution_count": 62,
   "metadata": {},
   "outputs": [
    {
     "name": "stdout",
     "output_type": "stream",
     "text": [
      "-1817.622 in CNY\n",
      "-251.4 in USD\n"
     ]
    }
   ],
   "source": [
    "transactions_example = [(-251.40, 'USD')]\n",
    "result_example = convert_transactions_to_target_currencies(transactions_example, exchange_rates_example)"
   ]
  },
  {
   "cell_type": "markdown",
   "metadata": {},
   "source": [
    "## Zijin - Rosy"
   ]
  },
  {
   "cell_type": "code",
   "execution_count": 61,
   "metadata": {},
   "outputs": [
    {
     "name": "stdout",
     "output_type": "stream",
     "text": [
      "-1286.1447 in CNY\n",
      "-177.89 in USD\n"
     ]
    }
   ],
   "source": [
    "transactions_example = [(-177.89, 'USD')]\n",
    "result_example = convert_transactions_to_target_currencies(transactions_example, exchange_rates_example)"
   ]
  }
 ],
 "metadata": {
  "kernelspec": {
   "display_name": "Python 3",
   "language": "python",
   "name": "python3"
  },
  "language_info": {
   "codemirror_mode": {
    "name": "ipython",
    "version": 3
   },
   "file_extension": ".py",
   "mimetype": "text/x-python",
   "name": "python",
   "nbconvert_exporter": "python",
   "pygments_lexer": "ipython3",
   "version": "3.10.12"
  }
 },
 "nbformat": 4,
 "nbformat_minor": 2
}
